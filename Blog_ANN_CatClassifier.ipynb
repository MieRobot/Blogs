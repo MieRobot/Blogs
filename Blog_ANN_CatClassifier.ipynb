{
 "cells": [
  {
   "cell_type": "markdown",
   "metadata": {},
   "source": [
    "# Here is my attempt to write a model based on an old Kaggle Cats vs Dog dataset. The dataset can be seen at the links shown and has 25,000 images of cats and dogs.\n",
    "https://www.kaggle.com/c/dogs-vs-cats/data "
   ]
  },
  {
   "cell_type": "code",
   "execution_count": 118,
   "metadata": {
    "collapsed": false
   },
   "outputs": [
    {
     "name": "stdout",
     "output_type": "stream",
     "text": [
      "test\n",
      "train\n",
      "\n"
     ]
    }
   ],
   "source": [
    "import numpy as np # linear algebra\n",
    "import pandas as pd # data processing, CSV file I/O (e.g. pd.read_csv)\n",
    "\n",
    "# Input data files are available in the \"../input/\" directory.\n",
    "# For example, running this (by clicking run or pressing Shift+Enter) will list the files in the input directory\n",
    "\n",
    "from subprocess import check_output\n",
    "print(check_output([\"ls\", \"../koyel/input\"]).decode(\"utf8\"))\n",
    "\n",
    "# Any results you write to the current directory are saved as output."
   ]
  },
  {
   "cell_type": "code",
   "execution_count": 120,
   "metadata": {
    "collapsed": false
   },
   "outputs": [],
   "source": [
    "train_path = \"../koyel/input/train\"\n",
    "test_path = \"../koyel/input/test\"\n",
    "\n",
    "ROWS = 64\n",
    "COLS = 64\n",
    "CHANNELS = 3\n",
    "\n",
    "images      = [img for img in os.listdir(train_path)]\n",
    "images_dog  = [img for img in os.listdir(train_path) if \"dog\" in img]\n",
    "images_cat  = [img for img in os.listdir(train_path) if \"cat\" in img]\n",
    "\n",
    "images_test = [img for img in os.listdir(test_path)]"
   ]
  },
  {
   "cell_type": "code",
   "execution_count": 121,
   "metadata": {
    "collapsed": false
   },
   "outputs": [],
   "source": [
    "#only taking a subset (less accuracy but faster training)\n",
    "train_dog = images_dog[:1000]\n",
    "train_cat = images_cat[:1000]\n",
    "valid_dog = images_dog[1000:1100]\n",
    "valid_cat = images_cat[1000:1100]\n",
    "\n",
    "train_list = train_dog + train_cat\n",
    "valid_list = valid_dog + valid_cat\n",
    "test_list  = images_test[0:]\n",
    "\n",
    "shuffle(train_list)\n",
    "\n",
    "train = np.ndarray(shape=(len(train_list),ROWS, COLS))\n",
    "train_color = np.ndarray(shape=(len(train_list), ROWS, COLS, CHANNELS), dtype=np.uint8)\n",
    "test = np.ndarray(shape=(len(test_list),ROWS, COLS))\n",
    "test_color = np.ndarray(shape=(len(images_test), ROWS, COLS, CHANNELS), dtype=np.uint8)\n",
    "valid = np.ndarray(shape=(len(valid_list), ROWS, COLS))\n",
    "valid_color = np.ndarray(shape=(len(valid_list), ROWS, COLS, CHANNELS), dtype=np.uint8)"
   ]
  },
  {
   "cell_type": "code",
   "execution_count": 122,
   "metadata": {
    "collapsed": false
   },
   "outputs": [],
   "source": [
    "labels = np.ndarray(len(train_list))\n",
    "\n",
    "for i, img_path in enumerate(train_list):\n",
    "    img_color = cv2.imread(os.path.join(train_path, img_path), 1)\n",
    "    img_color = cv2.resize(img_color, (ROWS, COLS), interpolation=cv2.INTER_CUBIC)\n",
    "    img = cv2.cvtColor(img_color, cv2.COLOR_BGR2GRAY)\n",
    "    \n",
    "    train[i] = img\n",
    "    train_color[i] = img_color\n",
    "   \n",
    "    if \"dog\" in img_path:\n",
    "        labels[i] = 0\n",
    "    else:\n",
    "        labels[i] = 1"
   ]
  },
  {
   "cell_type": "code",
   "execution_count": 123,
   "metadata": {
    "collapsed": true
   },
   "outputs": [],
   "source": [
    "valid_labels = np.ndarray(len(valid_list))\n",
    "\n",
    "for i, img_path in enumerate(valid_list):\n",
    "    img_color = cv2.imread(os.path.join(train_path, img_path), 1)\n",
    "    img_color = cv2.resize(img_color, (ROWS, COLS), interpolation=cv2.INTER_CUBIC)\n",
    "    img = cv2.cvtColor(img_color, cv2.COLOR_BGR2GRAY)\n",
    "    \n",
    "    valid[i] = img\n",
    "    valid_color[i] = img_color\n",
    "    \n",
    "    if \"dog\" in img_path:\n",
    "        valid_labels[i] = 0\n",
    "    else:\n",
    "        valid_labels[i] = 1"
   ]
  },
  {
   "cell_type": "code",
   "execution_count": 124,
   "metadata": {
    "collapsed": false
   },
   "outputs": [],
   "source": [
    "for i, img_path in enumerate(test_list):\n",
    "    img_color = cv2.imread(os.path.join(test_path, img_path), 1)\n",
    "    img_color = cv2.resize(img_color, (ROWS, COLS), interpolation=cv2.INTER_CUBIC)\n",
    "    img = cv2.cvtColor(img_color, cv2.COLOR_BGR2GRAY)\n",
    "    \n",
    "    test[i] = img\n",
    "    test_color[i] = img_color"
   ]
  },
  {
   "cell_type": "code",
   "execution_count": 125,
   "metadata": {
    "collapsed": false
   },
   "outputs": [],
   "source": [
    "for i, img_path in enumerate(test_list):\n",
    "    img_color = cv2.imread(os.path.join(test_path, img_path), 1)\n",
    "    img_color = cv2.resize(img_color, (ROWS, COLS), interpolation=cv2.INTER_CUBIC)\n",
    "    img = cv2.cvtColor(img_color, cv2.COLOR_BGR2GRAY)\n",
    "    \n",
    "    test[i] = img\n",
    "    test_color[i] = img_color\n",
    "\n"
   ]
  },
  {
   "cell_type": "code",
   "execution_count": 126,
   "metadata": {
    "collapsed": false
   },
   "outputs": [],
   "source": [
    "from keras.utils import np_utils\n",
    "\n",
    "X_train = train_color / 255\n",
    "X_valid = valid_color / 255\n",
    "X_test  = test_color  / 255\n",
    "# one hot encode outputs\n",
    "y_train = np_utils.to_categorical(labels)\n",
    "y_valid = np_utils.to_categorical(valid_labels)\n",
    "num_classes = y_valid.shape[1]"
   ]
  },
  {
   "cell_type": "code",
   "execution_count": 127,
   "metadata": {
    "collapsed": true
   },
   "outputs": [],
   "source": [
    "def larger_model():\n",
    "\t# create model\n",
    "\tmodel = Sequential()\n",
    "\tmodel.add(Convolution2D(30, 5, 5, border_mode='valid', input_shape=(64, 64, 3), activation='relu'))\n",
    "\tmodel.add(MaxPooling2D(pool_size=(2, 2)))\n",
    "\tmodel.add(Convolution2D(15, 3, 3, activation='relu'))\n",
    "\tmodel.add(MaxPooling2D(pool_size=(2, 2)))\n",
    "\tmodel.add(Dropout(0.2))\n",
    "\tmodel.add(Flatten())\n",
    "\tmodel.add(Dense(128, activation='relu'))\n",
    "\tmodel.add(Dense(50, activation='relu'))\n",
    "\tmodel.add(Dense(num_classes, activation='softmax'))\n",
    "\t# Compile model\n",
    "\tmodel.compile(loss='categorical_crossentropy', optimizer='adam', metrics=['accuracy'])\n",
    "\treturn model"
   ]
  },
  {
   "cell_type": "code",
   "execution_count": 131,
   "metadata": {
    "collapsed": false
   },
   "outputs": [
    {
     "name": "stderr",
     "output_type": "stream",
     "text": [
      "C:\\Users\\koyel\\Anaconda3\\envs\\tensorflow\\lib\\site-packages\\ipykernel\\__main__.py:4: UserWarning: Update your `Conv2D` call to the Keras 2 API: `Conv2D(30, (5, 5), padding=\"valid\", activation=\"relu\", input_shape=(64, 64, 3...)`\n",
      "C:\\Users\\koyel\\Anaconda3\\envs\\tensorflow\\lib\\site-packages\\ipykernel\\__main__.py:6: UserWarning: Update your `Conv2D` call to the Keras 2 API: `Conv2D(15, (3, 3), activation=\"relu\")`\n",
      "C:\\Users\\koyel\\Anaconda3\\envs\\tensorflow\\lib\\site-packages\\keras\\models.py:834: UserWarning: The `nb_epoch` argument in `fit` has been renamed `epochs`.\n",
      "  warnings.warn('The `nb_epoch` argument in `fit` '\n"
     ]
    },
    {
     "name": "stdout",
     "output_type": "stream",
     "text": [
      "Train on 2000 samples, validate on 200 samples\n",
      "Epoch 1/50\n",
      "17s - loss: 0.6880 - acc: 0.5305 - val_loss: 0.6951 - val_acc: 0.5300\n",
      "Epoch 2/50\n",
      "15s - loss: 0.6550 - acc: 0.5965 - val_loss: 0.6753 - val_acc: 0.5950\n",
      "Epoch 3/50\n",
      "15s - loss: 0.6291 - acc: 0.6350 - val_loss: 0.6654 - val_acc: 0.6100\n",
      "Epoch 4/50\n",
      "15s - loss: 0.5949 - acc: 0.6810 - val_loss: 0.6738 - val_acc: 0.6000\n",
      "Epoch 5/50\n",
      "16s - loss: 0.5766 - acc: 0.6895 - val_loss: 0.6506 - val_acc: 0.6600\n",
      "Epoch 6/50\n",
      "15s - loss: 0.5469 - acc: 0.7250 - val_loss: 0.6362 - val_acc: 0.6750\n",
      "Epoch 7/50\n",
      "15s - loss: 0.5470 - acc: 0.7120 - val_loss: 0.6346 - val_acc: 0.6600\n",
      "Epoch 8/50\n",
      "17s - loss: 0.4941 - acc: 0.7510 - val_loss: 0.6497 - val_acc: 0.6650\n",
      "Epoch 9/50\n",
      "16s - loss: 0.4818 - acc: 0.7645 - val_loss: 0.6636 - val_acc: 0.6500\n",
      "Epoch 10/50\n",
      "16s - loss: 0.4712 - acc: 0.7720 - val_loss: 0.6523 - val_acc: 0.6550\n",
      "Epoch 11/50\n",
      "16s - loss: 0.4228 - acc: 0.8075 - val_loss: 0.6619 - val_acc: 0.6600\n",
      "Epoch 12/50\n",
      "18s - loss: 0.3935 - acc: 0.8200 - val_loss: 0.7350 - val_acc: 0.6350\n",
      "Epoch 13/50\n",
      "17s - loss: 0.4011 - acc: 0.8135 - val_loss: 0.6878 - val_acc: 0.6550\n",
      "Epoch 14/50\n",
      "15s - loss: 0.3705 - acc: 0.8305 - val_loss: 0.7621 - val_acc: 0.6600\n",
      "Epoch 15/50\n",
      "18s - loss: 0.3594 - acc: 0.8345 - val_loss: 0.7160 - val_acc: 0.6550\n",
      "Epoch 16/50\n",
      "18s - loss: 0.3115 - acc: 0.8710 - val_loss: 0.7511 - val_acc: 0.6400\n",
      "Epoch 17/50\n",
      "15s - loss: 0.2924 - acc: 0.8735 - val_loss: 0.7979 - val_acc: 0.6450\n",
      "Epoch 18/50\n",
      "15s - loss: 0.2703 - acc: 0.8830 - val_loss: 0.8522 - val_acc: 0.6550\n",
      "Epoch 19/50\n",
      "14s - loss: 0.2470 - acc: 0.8945 - val_loss: 0.8409 - val_acc: 0.6450\n",
      "Epoch 20/50\n",
      "14s - loss: 0.2461 - acc: 0.8935 - val_loss: 0.8261 - val_acc: 0.6200\n",
      "Epoch 21/50\n",
      "15s - loss: 0.2173 - acc: 0.9210 - val_loss: 0.8745 - val_acc: 0.6550\n",
      "Epoch 22/50\n",
      "15s - loss: 0.1854 - acc: 0.9240 - val_loss: 0.9711 - val_acc: 0.6200\n",
      "Epoch 23/50\n",
      "15s - loss: 0.1695 - acc: 0.9375 - val_loss: 0.9895 - val_acc: 0.6000\n",
      "Epoch 24/50\n",
      "15s - loss: 0.1562 - acc: 0.9435 - val_loss: 1.0087 - val_acc: 0.6400\n",
      "Epoch 25/50\n",
      "15s - loss: 0.1281 - acc: 0.9590 - val_loss: 1.0472 - val_acc: 0.6300\n",
      "Epoch 26/50\n",
      "15s - loss: 0.1126 - acc: 0.9595 - val_loss: 1.0362 - val_acc: 0.6450\n",
      "Epoch 27/50\n",
      "14s - loss: 0.1023 - acc: 0.9670 - val_loss: 1.1378 - val_acc: 0.6250\n",
      "Epoch 28/50\n",
      "15s - loss: 0.0889 - acc: 0.9710 - val_loss: 1.1879 - val_acc: 0.6400\n",
      "Epoch 29/50\n",
      "14s - loss: 0.0720 - acc: 0.9795 - val_loss: 1.2377 - val_acc: 0.6450\n",
      "Epoch 30/50\n",
      "14s - loss: 0.0778 - acc: 0.9740 - val_loss: 1.3014 - val_acc: 0.6200\n",
      "Epoch 31/50\n",
      "14s - loss: 0.0849 - acc: 0.9715 - val_loss: 1.3661 - val_acc: 0.6500\n",
      "Epoch 32/50\n",
      "15s - loss: 0.0646 - acc: 0.9820 - val_loss: 1.3406 - val_acc: 0.6100\n",
      "Epoch 33/50\n",
      "15s - loss: 0.0593 - acc: 0.9815 - val_loss: 1.3681 - val_acc: 0.6400\n",
      "Epoch 34/50\n",
      "15s - loss: 0.0422 - acc: 0.9900 - val_loss: 1.3316 - val_acc: 0.6150\n",
      "Epoch 35/50\n",
      "15s - loss: 0.0349 - acc: 0.9920 - val_loss: 1.4584 - val_acc: 0.6150\n",
      "Epoch 36/50\n",
      "17s - loss: 0.0427 - acc: 0.9900 - val_loss: 1.3957 - val_acc: 0.6000\n",
      "Epoch 37/50\n",
      "15s - loss: 0.0341 - acc: 0.9930 - val_loss: 1.4892 - val_acc: 0.6500\n",
      "Epoch 38/50\n",
      "15s - loss: 0.0517 - acc: 0.9815 - val_loss: 1.5743 - val_acc: 0.6800\n",
      "Epoch 39/50\n",
      "14s - loss: 0.0533 - acc: 0.9845 - val_loss: 1.3040 - val_acc: 0.6450\n",
      "Epoch 40/50\n",
      "14s - loss: 0.0309 - acc: 0.9950 - val_loss: 1.4560 - val_acc: 0.6600\n",
      "Epoch 41/50\n",
      "14s - loss: 0.0280 - acc: 0.9915 - val_loss: 1.5658 - val_acc: 0.6500\n",
      "Epoch 42/50\n",
      "15s - loss: 0.0224 - acc: 0.9965 - val_loss: 1.5555 - val_acc: 0.6250\n",
      "Epoch 43/50\n",
      "14s - loss: 0.0199 - acc: 0.9950 - val_loss: 1.5634 - val_acc: 0.6650\n",
      "Epoch 44/50\n",
      "14s - loss: 0.0188 - acc: 0.9940 - val_loss: 1.5320 - val_acc: 0.6350\n",
      "Epoch 45/50\n",
      "14s - loss: 0.0217 - acc: 0.9955 - val_loss: 1.6760 - val_acc: 0.6500\n",
      "Epoch 46/50\n",
      "15s - loss: 0.0131 - acc: 0.9985 - val_loss: 1.6250 - val_acc: 0.6400\n",
      "Epoch 47/50\n",
      "16s - loss: 0.0144 - acc: 0.9975 - val_loss: 1.6693 - val_acc: 0.6550\n",
      "Epoch 48/50\n",
      "15s - loss: 0.0189 - acc: 0.9940 - val_loss: 1.9025 - val_acc: 0.6800\n",
      "Epoch 49/50\n",
      "15s - loss: 0.0169 - acc: 0.9970 - val_loss: 1.6281 - val_acc: 0.6550\n",
      "Epoch 50/50\n",
      "15s - loss: 0.0132 - acc: 0.9975 - val_loss: 1.6650 - val_acc: 0.6650\n",
      "Classification Error: 33.50%\n"
     ]
    }
   ],
   "source": [
    "from keras.models import Sequential\n",
    "from keras.layers import Dense\n",
    "from keras.layers import Dropout\n",
    "from keras.layers import Flatten\n",
    "from keras.layers.convolutional import Convolution2D\n",
    "from keras.layers.convolutional import MaxPooling2D\n",
    "# build the model\n",
    "model = larger_model()\n",
    "# Fit the model\n",
    "model.fit(X_train, y_train, validation_data=(X_valid, y_valid), nb_epoch=50, batch_size=200, verbose=2)\n",
    "# Final evaluation of the model\n",
    "scores = model.evaluate(X_valid, y_valid, verbose=0)\n",
    "print(\"Classification Error: %.2f%%\" % (100-scores[1]*100))"
   ]
  },
  {
   "cell_type": "code",
   "execution_count": 132,
   "metadata": {
    "collapsed": false
   },
   "outputs": [],
   "source": [
    "submission = model.predict_classes(X_test, verbose=2)"
   ]
  },
  {
   "cell_type": "code",
   "execution_count": 133,
   "metadata": {
    "collapsed": false
   },
   "outputs": [],
   "source": [
    "pd.DataFrame({\"id\": list(range(1,len(test_color)+1)), \n",
    "              \"label\": submission}).to_csv('submission.csv', index=False,header=True)"
   ]
  },
  {
   "cell_type": "code",
   "execution_count": null,
   "metadata": {
    "collapsed": true
   },
   "outputs": [],
   "source": []
  },
  {
   "cell_type": "code",
   "execution_count": null,
   "metadata": {
    "collapsed": true
   },
   "outputs": [],
   "source": []
  }
 ],
 "metadata": {
  "kernelspec": {
   "display_name": "tensorflow",
   "language": "python",
   "name": "tensorflow"
  },
  "language_info": {
   "codemirror_mode": {
    "name": "ipython",
    "version": 3
   },
   "file_extension": ".py",
   "mimetype": "text/x-python",
   "name": "python",
   "nbconvert_exporter": "python",
   "pygments_lexer": "ipython3",
   "version": "3.5.3"
  }
 },
 "nbformat": 4,
 "nbformat_minor": 2
}
